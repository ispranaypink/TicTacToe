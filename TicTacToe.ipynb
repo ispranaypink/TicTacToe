{
 "cells": [
  {
   "cell_type": "code",
   "execution_count": 67,
   "metadata": {},
   "outputs": [],
   "source": [
    "#display function\n",
    "def display():\n",
    "    print('     |    |   ')\n",
    "    print(f'   {slot7} | {slot8}  | {slot9} ')\n",
    "    print('_______________')\n",
    "    print('     |    |   ')\n",
    "    print(f'   {slot4} | {slot5}  | {slot6} ')\n",
    "    print('_______________')\n",
    "    print('     |    |   ')\n",
    "    print(f'   {slot1} | {slot2}  | {slot3} ')"
   ]
  },
  {
   "cell_type": "code",
   "execution_count": 60,
   "metadata": {},
   "outputs": [],
   "source": [
    "#slots for placements of the symbols\n",
    "slot9 = 9\n",
    "slot8 = 8\n",
    "slot7 = 7\n",
    "slot6 = 6\n",
    "slot5 = 5\n",
    "slot4 = 4\n",
    "slot3 = 3\n",
    "slot2 = 2\n",
    "slot1 = 1"
   ]
  },
  {
   "cell_type": "code",
   "execution_count": 68,
   "metadata": {},
   "outputs": [
    {
     "name": "stdout",
     "output_type": "stream",
     "text": [
      "     |    |   \n",
      "   7 | 8  | 9 \n",
      "_______________\n",
      "     |    |   \n",
      "   4 | 5  | 6 \n",
      "_______________\n",
      "     |    |   \n",
      "   1 | 2  | 3 \n"
     ]
    }
   ],
   "source": [
    "display()"
   ]
  },
  {
   "cell_type": "code",
   "execution_count": 55,
   "metadata": {},
   "outputs": [],
   "source": [
    "#user input\n",
    "def user_input():\n",
    "    slot_choice = 'wrong'\n",
    "    acceptable_slots = ['1','2','3','4','5','6','7','8','9']\n",
    "    while slot_choice.isdigit() == False or slot_choice not in acceptable_slots:\n",
    "        slot_choice = input('Enter your slot choice')\n",
    "        if slot_choice.isdigit() == False:\n",
    "            clear_output()\n",
    "            print('You have entered a string, Enter a number')\n",
    "        if slot_choice not in acceptable_slots:\n",
    "            clear_output()\n",
    "            print('Enter the number from given slots only')\n",
    "    else:\n",
    "        clear_output()\n",
    "        return int(slot_choice)"
   ]
  },
  {
   "cell_type": "code",
   "execution_count": 38,
   "metadata": {},
   "outputs": [],
   "source": [
    "from IPython.display import clear_output"
   ]
  },
  {
   "cell_type": "code",
   "execution_count": 74,
   "metadata": {},
   "outputs": [],
   "source": [
    "def player_1():\n",
    "    if user_input() == 1:\n",
    "        slot1 = 'X'\n",
    "    if user_input() == 2:\n",
    "        slot2 = 'X'\n",
    "    if user_input() == 3:\n",
    "        slot3 = 'X'\n",
    "    if user_input() == 4:\n",
    "        slot4 = 'X'\n",
    "    if user_input() == 5:\n",
    "        slot5 = 'X'\n",
    "    if user_input() == 6:\n",
    "        slot6 = 'X'\n",
    "    if user_input() == 7:\n",
    "        slot7 = 'X'\n",
    "    if user_input() == 8:\n",
    "        slot8 = 'X'\n",
    "    if user_input() == 9:\n",
    "        slot9 = 'X'\n"
   ]
  },
  {
   "cell_type": "code",
   "execution_count": 75,
   "metadata": {},
   "outputs": [],
   "source": [
    "def player_2():\n",
    "    if user_input() == 1:\n",
    "        slot1 = 'O'\n",
    "    if user_input() == 2:\n",
    "        slot2 = 'O'\n",
    "    if user_input() == 3:\n",
    "        slot3 = 'O'\n",
    "    if user_input() == 4:\n",
    "        slot4 = 'O'\n",
    "    if user_input() == 5:\n",
    "        slot5 = 'O'\n",
    "    if user_input() == 6:\n",
    "        slot6 = 'O'\n",
    "    if user_input() == 7:\n",
    "        slot7 = 'O'\n",
    "    if user_input() == 8:\n",
    "        slot8 = 'O'\n",
    "    if user_input() == 9:\n",
    "        slot9 = 'O'"
   ]
  },
  {
   "cell_type": "code",
   "execution_count": 82,
   "metadata": {},
   "outputs": [
    {
     "name": "stdout",
     "output_type": "stream",
     "text": [
      "     |    |   \n",
      "   7 | 8  | 9 \n",
      "_______________\n",
      "     |    |   \n",
      "   4 | 5  | 6 \n",
      "_______________\n",
      "     |    |   \n",
      "   1 | 2  | 3 \n",
      "     |    |   \n",
      "   7 | 8  | 9 \n",
      "_______________\n",
      "     |    |   \n",
      "   4 | 5  | 6 \n",
      "_______________\n",
      "     |    |   \n",
      "   1 | 2  | 3 \n"
     ]
    },
    {
     "ename": "KeyboardInterrupt",
     "evalue": "Interrupted by user",
     "output_type": "error",
     "traceback": [
      "\u001b[1;31m---------------------------------------------------------------------------\u001b[0m",
      "\u001b[1;31mKeyboardInterrupt\u001b[0m                         Traceback (most recent call last)",
      "\u001b[1;32m~\\AppData\\Local\\Temp\\ipykernel_18364\\2991803679.py\u001b[0m in \u001b[0;36m<module>\u001b[1;34m\u001b[0m\n\u001b[0;32m      5\u001b[0m \u001b[1;32mwhile\u001b[0m  \u001b[0mwinner_player_1\u001b[0m \u001b[1;33m==\u001b[0m \u001b[1;32mFalse\u001b[0m \u001b[1;32mor\u001b[0m \u001b[0mwinner_player_2\u001b[0m \u001b[1;33m==\u001b[0m \u001b[1;32mFalse\u001b[0m\u001b[1;33m:\u001b[0m\u001b[1;33m\u001b[0m\u001b[1;33m\u001b[0m\u001b[0m\n\u001b[0;32m      6\u001b[0m     \u001b[0mdisplay\u001b[0m\u001b[1;33m(\u001b[0m\u001b[1;33m)\u001b[0m\u001b[1;33m\u001b[0m\u001b[1;33m\u001b[0m\u001b[0m\n\u001b[1;32m----> 7\u001b[1;33m     \u001b[0muser_input\u001b[0m\u001b[1;33m(\u001b[0m\u001b[1;33m)\u001b[0m\u001b[1;33m\u001b[0m\u001b[1;33m\u001b[0m\u001b[0m\n\u001b[0m\u001b[0;32m      8\u001b[0m     \u001b[0mplayer_1\u001b[0m\u001b[1;33m(\u001b[0m\u001b[1;33m)\u001b[0m\u001b[1;33m\u001b[0m\u001b[1;33m\u001b[0m\u001b[0m\n\u001b[0;32m      9\u001b[0m     \u001b[0mdisplay\u001b[0m\u001b[1;33m(\u001b[0m\u001b[1;33m)\u001b[0m\u001b[1;33m\u001b[0m\u001b[1;33m\u001b[0m\u001b[0m\n",
      "\u001b[1;32m~\\AppData\\Local\\Temp\\ipykernel_18364\\1754600332.py\u001b[0m in \u001b[0;36muser_input\u001b[1;34m()\u001b[0m\n\u001b[0;32m      4\u001b[0m     \u001b[0macceptable_slots\u001b[0m \u001b[1;33m=\u001b[0m \u001b[1;33m[\u001b[0m\u001b[1;34m'1'\u001b[0m\u001b[1;33m,\u001b[0m\u001b[1;34m'2'\u001b[0m\u001b[1;33m,\u001b[0m\u001b[1;34m'3'\u001b[0m\u001b[1;33m,\u001b[0m\u001b[1;34m'4'\u001b[0m\u001b[1;33m,\u001b[0m\u001b[1;34m'5'\u001b[0m\u001b[1;33m,\u001b[0m\u001b[1;34m'6'\u001b[0m\u001b[1;33m,\u001b[0m\u001b[1;34m'7'\u001b[0m\u001b[1;33m,\u001b[0m\u001b[1;34m'8'\u001b[0m\u001b[1;33m,\u001b[0m\u001b[1;34m'9'\u001b[0m\u001b[1;33m]\u001b[0m\u001b[1;33m\u001b[0m\u001b[1;33m\u001b[0m\u001b[0m\n\u001b[0;32m      5\u001b[0m     \u001b[1;32mwhile\u001b[0m \u001b[0mslot_choice\u001b[0m\u001b[1;33m.\u001b[0m\u001b[0misdigit\u001b[0m\u001b[1;33m(\u001b[0m\u001b[1;33m)\u001b[0m \u001b[1;33m==\u001b[0m \u001b[1;32mFalse\u001b[0m \u001b[1;32mor\u001b[0m \u001b[0mslot_choice\u001b[0m \u001b[1;32mnot\u001b[0m \u001b[1;32min\u001b[0m \u001b[0macceptable_slots\u001b[0m\u001b[1;33m:\u001b[0m\u001b[1;33m\u001b[0m\u001b[1;33m\u001b[0m\u001b[0m\n\u001b[1;32m----> 6\u001b[1;33m         \u001b[0mslot_choice\u001b[0m \u001b[1;33m=\u001b[0m \u001b[0minput\u001b[0m\u001b[1;33m(\u001b[0m\u001b[1;34m'Enter your slot choice'\u001b[0m\u001b[1;33m)\u001b[0m\u001b[1;33m\u001b[0m\u001b[1;33m\u001b[0m\u001b[0m\n\u001b[0m\u001b[0;32m      7\u001b[0m         \u001b[1;32mif\u001b[0m \u001b[0mslot_choice\u001b[0m\u001b[1;33m.\u001b[0m\u001b[0misdigit\u001b[0m\u001b[1;33m(\u001b[0m\u001b[1;33m)\u001b[0m \u001b[1;33m==\u001b[0m \u001b[1;32mFalse\u001b[0m\u001b[1;33m:\u001b[0m\u001b[1;33m\u001b[0m\u001b[1;33m\u001b[0m\u001b[0m\n\u001b[0;32m      8\u001b[0m             \u001b[0mclear_output\u001b[0m\u001b[1;33m(\u001b[0m\u001b[1;33m)\u001b[0m\u001b[1;33m\u001b[0m\u001b[1;33m\u001b[0m\u001b[0m\n",
      "\u001b[1;32mc:\\Users\\prana\\anaconda3\\lib\\site-packages\\ipykernel\\kernelbase.py\u001b[0m in \u001b[0;36mraw_input\u001b[1;34m(self, prompt)\u001b[0m\n\u001b[0;32m   1175\u001b[0m                 \u001b[1;34m\"raw_input was called, but this frontend does not support input requests.\"\u001b[0m\u001b[1;33m\u001b[0m\u001b[1;33m\u001b[0m\u001b[0m\n\u001b[0;32m   1176\u001b[0m             )\n\u001b[1;32m-> 1177\u001b[1;33m         return self._input_request(\n\u001b[0m\u001b[0;32m   1178\u001b[0m             \u001b[0mstr\u001b[0m\u001b[1;33m(\u001b[0m\u001b[0mprompt\u001b[0m\u001b[1;33m)\u001b[0m\u001b[1;33m,\u001b[0m\u001b[1;33m\u001b[0m\u001b[1;33m\u001b[0m\u001b[0m\n\u001b[0;32m   1179\u001b[0m             \u001b[0mself\u001b[0m\u001b[1;33m.\u001b[0m\u001b[0m_parent_ident\u001b[0m\u001b[1;33m[\u001b[0m\u001b[1;34m\"shell\"\u001b[0m\u001b[1;33m]\u001b[0m\u001b[1;33m,\u001b[0m\u001b[1;33m\u001b[0m\u001b[1;33m\u001b[0m\u001b[0m\n",
      "\u001b[1;32mc:\\Users\\prana\\anaconda3\\lib\\site-packages\\ipykernel\\kernelbase.py\u001b[0m in \u001b[0;36m_input_request\u001b[1;34m(self, prompt, ident, parent, password)\u001b[0m\n\u001b[0;32m   1217\u001b[0m             \u001b[1;32mexcept\u001b[0m \u001b[0mKeyboardInterrupt\u001b[0m\u001b[1;33m:\u001b[0m\u001b[1;33m\u001b[0m\u001b[1;33m\u001b[0m\u001b[0m\n\u001b[0;32m   1218\u001b[0m                 \u001b[1;31m# re-raise KeyboardInterrupt, to truncate traceback\u001b[0m\u001b[1;33m\u001b[0m\u001b[1;33m\u001b[0m\u001b[0m\n\u001b[1;32m-> 1219\u001b[1;33m                 \u001b[1;32mraise\u001b[0m \u001b[0mKeyboardInterrupt\u001b[0m\u001b[1;33m(\u001b[0m\u001b[1;34m\"Interrupted by user\"\u001b[0m\u001b[1;33m)\u001b[0m \u001b[1;32mfrom\u001b[0m \u001b[1;32mNone\u001b[0m\u001b[1;33m\u001b[0m\u001b[1;33m\u001b[0m\u001b[0m\n\u001b[0m\u001b[0;32m   1220\u001b[0m             \u001b[1;32mexcept\u001b[0m \u001b[0mException\u001b[0m\u001b[1;33m:\u001b[0m\u001b[1;33m\u001b[0m\u001b[1;33m\u001b[0m\u001b[0m\n\u001b[0;32m   1221\u001b[0m                 \u001b[0mself\u001b[0m\u001b[1;33m.\u001b[0m\u001b[0mlog\u001b[0m\u001b[1;33m.\u001b[0m\u001b[0mwarning\u001b[0m\u001b[1;33m(\u001b[0m\u001b[1;34m\"Invalid Message:\"\u001b[0m\u001b[1;33m,\u001b[0m \u001b[0mexc_info\u001b[0m\u001b[1;33m=\u001b[0m\u001b[1;32mTrue\u001b[0m\u001b[1;33m)\u001b[0m\u001b[1;33m\u001b[0m\u001b[1;33m\u001b[0m\u001b[0m\n",
      "\u001b[1;31mKeyboardInterrupt\u001b[0m: Interrupted by user"
     ]
    }
   ],
   "source": [
    "#logic\n",
    "winner_player_1 = False\n",
    "winner_player_2 = False\n",
    "display()\n",
    "while  winner_player_1 == False or winner_player_2 == False:\n",
    "    display()\n",
    "    user_input()\n",
    "    player_1()\n",
    "    display()\n",
    "    user_input()\n",
    "    player_2()\n",
    "    display()"
   ]
  },
  {
   "cell_type": "code",
   "execution_count": 81,
   "metadata": {},
   "outputs": [],
   "source": [
    "#declaration of win of player 1\n",
    "def winner_player_1():\n",
    "    if slot1 == 'X' and slot2 == 'X' and slot3 == 'X':\n",
    "        print('Congratulations player 1, You have won!!')\n",
    "        slot1 = '-'\n",
    "        slot2 = '-'\n",
    "        slot3 = '-'\n",
    "        winner_player_1 = True\n",
    "    if slot1 == 'X' and slot5 == 'X' and slot9 == 'X':\n",
    "        print('Congratulations player 1, You have won!!')\n",
    "        slot1 = '/'\n",
    "        slot5 = '/'\n",
    "        slot9 = '/'\n",
    "        winner_player_1 = True\n",
    "    if slot1 == 'X' and slot4 == 'X' and slot7 == 'X':\n",
    "        print('Congratulations player 1, You have won!!')\n",
    "        slot1 = '|'\n",
    "        slot4 = '|'\n",
    "        slot7 = '|'\n",
    "        winner_player_1 = True\n",
    "    if slot7 == 'X' and slot8 == 'X' and slot9 == 'X':\n",
    "        print('Congratulations player 1, You have won!!')\n",
    "        slot7 = '-'\n",
    "        slot8 = '-'\n",
    "        slot9 = '-'\n",
    "        winner_player_1 = True\n",
    "    if slot8 == 'X' and slot5 == 'X' and slot2 == 'X':\n",
    "        print('Congratulations player 1, You have won!!')\n",
    "        slot8 = '|'\n",
    "        slot5 = '|'\n",
    "        slot2 = '|'\n",
    "        winner_player_1 = True\n",
    "    if slot9 == 'X' and slot6 == 'X' and slot3 == 'X':\n",
    "        print('Congratulations player 1, You have won!!')\n",
    "        slot9 = '|'\n",
    "        slot6 = '|'\n",
    "        slot3 = '|'\n",
    "        winner_player_1 = True\n",
    "    if slot7 == 'X' and slot5 == 'X' and slot3 == 'X':\n",
    "        print('Congratulations player 1, You have won!!')\n",
    "        slot7 = '/'\n",
    "        slot5 = '/'\n",
    "        slot3 = '/'\n",
    "        winner_player_1 = True\n",
    "    if slot7 == 'X' and slot5 == 'X' and slot3 == 'X':\n",
    "        print('Congratulations player 1, You have won!!')\n",
    "        slot4 = '-'\n",
    "        slot5 = '-'\n",
    "        slot6 = '-'\n",
    "        winner_player_1 = True\n",
    "    else:\n",
    "        pass\n"
   ]
  },
  {
   "cell_type": "code",
   "execution_count": null,
   "metadata": {},
   "outputs": [],
   "source": []
  }
 ],
 "metadata": {
  "kernelspec": {
   "display_name": "base",
   "language": "python",
   "name": "python3"
  },
  "language_info": {
   "codemirror_mode": {
    "name": "ipython",
    "version": 3
   },
   "file_extension": ".py",
   "mimetype": "text/x-python",
   "name": "python",
   "nbconvert_exporter": "python",
   "pygments_lexer": "ipython3",
   "version": "3.9.13"
  },
  "orig_nbformat": 4
 },
 "nbformat": 4,
 "nbformat_minor": 2
}
