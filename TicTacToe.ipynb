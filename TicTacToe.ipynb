{
 "cells": [
  {
   "cell_type": "code",
   "execution_count": 2,
   "metadata": {},
   "outputs": [],
   "source": [
    "import numpy as np"
   ]
  },
  {
   "cell_type": "code",
   "execution_count": 3,
   "metadata": {},
   "outputs": [],
   "source": [
    "def print_board(board):\n",
    "    print(board)"
   ]
  },
  {
   "cell_type": "code",
   "execution_count": 4,
   "metadata": {},
   "outputs": [],
   "source": [
    "def check_win(board,player):\n",
    "    return any(all(board[i][j] == player for i in range(3))for j in range(3)) or\\\n",
    "           any(all(board[i][j] == player for j in range(3))for i in range(3)) or\\\n",
    "           all(board[i][i] == player for i in range(3)) or\\\n",
    "           all(board[i][2-i] == player for i in range(3))"
   ]
  },
  {
   "cell_type": "code",
   "execution_count": 5,
   "metadata": {},
   "outputs": [],
   "source": [
    "def is_board_full(board):\n",
    "    return np.all(board != '')"
   ]
  },
  {
   "cell_type": "code",
   "execution_count": 6,
   "metadata": {},
   "outputs": [],
   "source": [
    "def Tic_Tac_Toe():\n",
    "    board = np.full((3,3),'')\n",
    "    players = ['O','X']\n",
    "    current_player = 0\n",
    "    \n",
    "\n",
    "    print('Welcome to TicTacToe')\n",
    "    print(board)\n",
    "\n",
    "    while True:\n",
    "        player = players[current_player]\n",
    "        print(f\"it's Player {player}'s turn\")\n",
    "\n",
    "        while True:\n",
    "            try:\n",
    "                row = int(input(\"Enter the row(0,1 or 2):\"))\n",
    "                col = int(input(\"Enter the column (0,1,or 2):\"))\n",
    "                if 0 <= row <= 2 and 0 <= col <= 2 and board and board[row][col] == '':\n",
    "                    break\n",
    "                else:\n",
    "                    print('Invalid move, try again.')\n",
    "            except ValueError:\n",
    "                print(\"Invalid input.Please enter a number\")\n",
    "\n",
    "        board[row][col] = player\n",
    "        print(board)\n",
    "\n",
    "        if check_win(board,player):\n",
    "            print(f\"Player {player} you have won\")\n",
    "            break\n",
    "\n",
    "        if is_board_full(board):\n",
    "            print(\"It's a draw\")\n",
    "            break\n",
    "\n",
    "        current_player = 1 - current_player\n",
    "\n",
    "        if__name__ == \"__main__\"\n",
    "        Tic_Tac_Toe()"
   ]
  },
  {
   "cell_type": "code",
   "execution_count": 7,
   "metadata": {},
   "outputs": [
    {
     "name": "stdout",
     "output_type": "stream",
     "text": [
      "Welcome to TicTacToe\n",
      "[['' '' '']\n",
      " ['' '' '']\n",
      " ['' '' '']]\n",
      "it's Player O's turn\n",
      "Invalid input.Please enter a number\n",
      "Invalid input.Please enter a number\n"
     ]
    }
   ],
   "source": [
    "Tic_Tac_Toe()"
   ]
  },
  {
   "cell_type": "code",
   "execution_count": null,
   "metadata": {},
   "outputs": [],
   "source": []
  }
 ],
 "metadata": {
  "kernelspec": {
   "display_name": "base",
   "language": "python",
   "name": "python3"
  },
  "language_info": {
   "codemirror_mode": {
    "name": "ipython",
    "version": 3
   },
   "file_extension": ".py",
   "mimetype": "text/x-python",
   "name": "python",
   "nbconvert_exporter": "python",
   "pygments_lexer": "ipython3",
   "version": "3.9.13"
  },
  "orig_nbformat": 4
 },
 "nbformat": 4,
 "nbformat_minor": 2
}
